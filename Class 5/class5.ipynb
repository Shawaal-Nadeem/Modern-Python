{
 "cells": [
  {
   "cell_type": "markdown",
   "metadata": {},
   "source": [
    "# List\n",
    "* iteration operation with loop\n",
    "* apply any operation on element"
   ]
  },
  {
   "cell_type": "code",
   "execution_count": 1,
   "metadata": {},
   "outputs": [
    {
     "name": "stdout",
     "output_type": "stream",
     "text": [
      "['Shawaal', 'Nancy', 'Kill Joy', 'Raze']\n"
     ]
    }
   ],
   "source": [
    "names:list[str]=['Shawaal','Nancy','Kill Joy',\"Raze\"]\n",
    "print(names)"
   ]
  },
  {
   "cell_type": "code",
   "execution_count": 2,
   "metadata": {},
   "outputs": [
    {
     "name": "stdout",
     "output_type": "stream",
     "text": [
      "Shawaal\n",
      "Nancy\n",
      "Kill Joy\n",
      "Raze\n"
     ]
    }
   ],
   "source": [
    "names:list[str]=['Shawaal','Nancy','Kill Joy',\"Raze\"]\n",
    "\n",
    "for x in names:\n",
    "    print(x)   "
   ]
  },
  {
   "cell_type": "code",
   "execution_count": 5,
   "metadata": {},
   "outputs": [
    {
     "name": "stdout",
     "output_type": "stream",
     "text": [
      "Welcome to Shawaal\n",
      "Welcome to Nancy\n"
     ]
    }
   ],
   "source": [
    "names:list[str]=['shawaal','nancy','Kill Joy',\"raze\"]\n",
    "\n",
    "for x in names[:2]:\n",
    "    print(f'Welcome to {x.title()}')   "
   ]
  },
  {
   "cell_type": "code",
   "execution_count": 14,
   "metadata": {},
   "outputs": [
    {
     "name": "stdout",
     "output_type": "stream",
     "text": [
      "Valid User\n"
     ]
    }
   ],
   "source": [
    "uInputName: str = input(\"Enter Username\")\n",
    "uPassword: str = input(\"Enter Password\")\n",
    "dataBase: list[tuple[str, str]] = [(\"Shawaal\", '123'), (\"Nancy\", '456')]\n",
    "flag:bool=False\n",
    "for x in dataBase:\n",
    "    user, password = x\n",
    "    if user == uInputName and uPassword == password:\n",
    "        flag=True\n",
    "        break\n",
    "if flag==True:\n",
    "    print('Valid User')\n",
    "else:\n",
    "    print('Invalid User')"
   ]
  },
  {
   "cell_type": "code",
   "execution_count": 15,
   "metadata": {},
   "outputs": [
    {
     "name": "stdout",
     "output_type": "stream",
     "text": [
      "Alice\n",
      "Bob\n",
      "David\n",
      "Block scope Variable access last value can be access outside loop :David\n"
     ]
    }
   ],
   "source": [
    "magicians:list[str]=['Alice','Bob','David']\n",
    "for x in magicians:\n",
    "    print (x)\n",
    "print(f'Block scope Variable access last value can be access outside loop :{x}')"
   ]
  },
  {
   "cell_type": "markdown",
   "metadata": {},
   "source": [
    "# Numbers with Loop\n",
    "* range(start,end,step)"
   ]
  },
  {
   "cell_type": "code",
   "execution_count": 20,
   "metadata": {},
   "outputs": [
    {
     "data": {
      "text/plain": [
       "[2, 4, 6, 8, 10, 12, 14, 16, 18, 20]"
      ]
     },
     "execution_count": 20,
     "metadata": {},
     "output_type": "execute_result"
    }
   ],
   "source": [
    "# list(range(10))\n",
    "list(range(2,21,2))\n"
   ]
  },
  {
   "cell_type": "code",
   "execution_count": 24,
   "metadata": {},
   "outputs": [
    {
     "name": "stdout",
     "output_type": "stream",
     "text": [
      "2 X 1 = 2\n",
      "2 X 2 = 4\n",
      "2 X 3 = 6\n",
      "2 X 4 = 8\n",
      "2 X 5 = 10\n",
      "2 X 6 = 12\n",
      "2 X 7 = 14\n",
      "2 X 8 = 16\n",
      "2 X 9 = 18\n",
      "2 X 10 = 20\n"
     ]
    }
   ],
   "source": [
    "for n in range(1,11,1):\n",
    "    print(f'2 X {n} = {n*2}')"
   ]
  },
  {
   "cell_type": "code",
   "execution_count": 25,
   "metadata": {},
   "outputs": [
    {
     "name": "stdout",
     "output_type": "stream",
     "text": [
      "[1, 4, 9, 16, 25, 36, 49, 64, 81, 100]\n"
     ]
    }
   ],
   "source": [
    "squareList:list[int]=[]\n",
    "for i in range(1,11,1):\n",
    "    squareValue=i**2\n",
    "    squareList.append(squareValue)\n",
    "print(squareList)"
   ]
  },
  {
   "cell_type": "markdown",
   "metadata": {},
   "source": [
    "# List Comprehensive\n",
    "```\n",
    "for item in items_list:\n",
    "loop_body\n",
    "```\n",
    "\n",
    "### Comprehensive Style\n",
    "```\n",
    "[loop_body for item in items_list]\n",
    "```"
   ]
  },
  {
   "cell_type": "code",
   "execution_count": 26,
   "metadata": {},
   "outputs": [
    {
     "data": {
      "text/plain": [
       "[1, 4, 9, 16, 25, 36, 49, 64, 81, 100]"
      ]
     },
     "execution_count": 26,
     "metadata": {},
     "output_type": "execute_result"
    }
   ],
   "source": [
    "[i**2 for i in range(1,11,1)]"
   ]
  },
  {
   "cell_type": "markdown",
   "metadata": {},
   "source": [
    "# Tuples \n",
    "* Immutable (We can't update or append)\n",
    "* Treat as a constant"
   ]
  },
  {
   "cell_type": "code",
   "execution_count": 27,
   "metadata": {},
   "outputs": [
    {
     "ename": "TypeError",
     "evalue": "'tuple' object does not support item assignment",
     "output_type": "error",
     "traceback": [
      "\u001b[1;31m---------------------------------------------------------------------------\u001b[0m",
      "\u001b[1;31mTypeError\u001b[0m                                 Traceback (most recent call last)",
      "\u001b[1;32md:\\Modern-Python\\Class 5\\class5.ipynb Cell 14\u001b[0m line \u001b[0;36m2\n\u001b[0;32m      <a href='vscode-notebook-cell:/d%3A/Modern-Python/Class%205/class5.ipynb#X20sZmlsZQ%3D%3D?line=0'>1</a>\u001b[0m names:\u001b[39mtuple\u001b[39m[\u001b[39mstr\u001b[39m]\u001b[39m=\u001b[39m(\u001b[39m'\u001b[39m\u001b[39mA\u001b[39m\u001b[39m'\u001b[39m,\u001b[39m'\u001b[39m\u001b[39mB\u001b[39m\u001b[39m'\u001b[39m,\u001b[39m'\u001b[39m\u001b[39mC\u001b[39m\u001b[39m'\u001b[39m)\n\u001b[1;32m----> <a href='vscode-notebook-cell:/d%3A/Modern-Python/Class%205/class5.ipynb#X20sZmlsZQ%3D%3D?line=1'>2</a>\u001b[0m names[\u001b[39m0\u001b[39;49m]\u001b[39m=\u001b[39m\u001b[39m'\u001b[39m\u001b[39mPakistan\u001b[39m\u001b[39m'\u001b[39m\n",
      "\u001b[1;31mTypeError\u001b[0m: 'tuple' object does not support item assignment"
     ]
    }
   ],
   "source": [
    "names:tuple[str]=('A','B','C')\n",
    "names[0]='Pakistan'"
   ]
  },
  {
   "cell_type": "code",
   "execution_count": 29,
   "metadata": {},
   "outputs": [
    {
     "name": "stdout",
     "output_type": "stream",
     "text": [
      "[1, 2, 3]\n",
      "[1, 2, 3, 20]\n"
     ]
    }
   ],
   "source": [
    "from typing import Any\n",
    "data:tuple[Any]=(\"A\",[1,2,3],True)\n",
    "print(data[1])\n",
    "data[1].append(20)  # Update bcz inside tuple we have a list which we can update\n",
    "print(data[1])"
   ]
  }
 ],
 "metadata": {
  "kernelspec": {
   "display_name": "python12",
   "language": "python",
   "name": "python3"
  },
  "language_info": {
   "codemirror_mode": {
    "name": "ipython",
    "version": 3
   },
   "file_extension": ".py",
   "mimetype": "text/x-python",
   "name": "python",
   "nbconvert_exporter": "python",
   "pygments_lexer": "ipython3",
   "version": "3.12.0"
  }
 },
 "nbformat": 4,
 "nbformat_minor": 2
}
