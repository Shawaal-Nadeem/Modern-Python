{
 "cells": [
  {
   "cell_type": "code",
   "execution_count": 1,
   "metadata": {},
   "outputs": [
    {
     "name": "stdout",
     "output_type": "stream",
     "text": [
      "Collecting nptyping\n",
      "  Downloading nptyping-2.5.0-py3-none-any.whl (37 kB)\n",
      "Collecting beartype\n",
      "  Downloading beartype-0.16.4-py3-none-any.whl.metadata (29 kB)\n",
      "Requirement already satisfied: numpy<2.0.0,>=1.20.0 in c:\\users\\hp\\anaconda3\\envs\\python12\\lib\\site-packages (from nptyping) (1.26.1)\n",
      "Downloading beartype-0.16.4-py3-none-any.whl (819 kB)\n",
      "   ---------------------------------------- 0.0/819.1 kB ? eta -:--:--\n",
      "    --------------------------------------- 10.2/819.1 kB ? eta -:--:--\n",
      "   - ------------------------------------- 30.7/819.1 kB 660.6 kB/s eta 0:00:02\n",
      "   - ------------------------------------- 41.0/819.1 kB 487.6 kB/s eta 0:00:02\n",
      "   -- ------------------------------------ 61.4/819.1 kB 544.7 kB/s eta 0:00:02\n",
      "   ---- ---------------------------------- 92.2/819.1 kB 476.3 kB/s eta 0:00:02\n",
      "   ----- -------------------------------- 112.6/819.1 kB 504.4 kB/s eta 0:00:02\n",
      "   ------ ------------------------------- 143.4/819.1 kB 500.5 kB/s eta 0:00:02\n",
      "   -------- ----------------------------- 174.1/819.1 kB 499.5 kB/s eta 0:00:02\n",
      "   --------- ---------------------------- 194.6/819.1 kB 535.8 kB/s eta 0:00:02\n",
      "   ---------- --------------------------- 225.3/819.1 kB 529.7 kB/s eta 0:00:02\n",
      "   ----------- -------------------------- 256.0/819.1 kB 542.5 kB/s eta 0:00:02\n",
      "   ------------ ------------------------- 276.5/819.1 kB 567.7 kB/s eta 0:00:01\n",
      "   -------------- ----------------------- 307.2/819.1 kB 559.2 kB/s eta 0:00:01\n",
      "   --------------- ---------------------- 337.9/819.1 kB 566.9 kB/s eta 0:00:01\n",
      "   ----------------- -------------------- 368.6/819.1 kB 573.4 kB/s eta 0:00:01\n",
      "   ------------------ ------------------- 399.4/819.1 kB 579.0 kB/s eta 0:00:01\n",
      "   -------------------- ----------------- 440.3/819.1 kB 598.2 kB/s eta 0:00:01\n",
      "   --------------------- ---------------- 471.0/819.1 kB 614.4 kB/s eta 0:00:01\n",
      "   ------------------------ ------------- 522.2/819.1 kB 642.4 kB/s eta 0:00:01\n",
      "   -------------------------- ----------- 563.2/819.1 kB 643.7 kB/s eta 0:00:01\n",
      "   ---------------------------- --------- 604.2/819.1 kB 655.5 kB/s eta 0:00:01\n",
      "   ----------------------------- -------- 634.9/819.1 kB 665.9 kB/s eta 0:00:01\n",
      "   ------------------------------- ------ 686.1/819.1 kB 675.8 kB/s eta 0:00:01\n",
      "   --------------------------------- ---- 716.8/819.1 kB 685.3 kB/s eta 0:00:01\n",
      "   ---------------------------------- --- 747.5/819.1 kB 683.9 kB/s eta 0:00:01\n",
      "   -------------------------------------  798.7/819.1 kB 691.0 kB/s eta 0:00:01\n",
      "   -------------------------------------- 819.1/819.1 kB 690.1 kB/s eta 0:00:00\n",
      "Installing collected packages: nptyping, beartype\n",
      "Successfully installed beartype-0.16.4 nptyping-2.5.0\n"
     ]
    }
   ],
   "source": [
    "!pip install nptyping beartype"
   ]
  },
  {
   "cell_type": "code",
   "execution_count": 6,
   "metadata": {},
   "outputs": [
    {
     "name": "stdout",
     "output_type": "stream",
     "text": [
      "[[ 0  1  2  3]\n",
      " [ 4  5  6  7]\n",
      " [ 8  9 10 11]]\n",
      "Shape of Object (3, 4)\n",
      "int32\n",
      "Number of Dimensions 2\n",
      "Total Items in array 12\n",
      "4\n"
     ]
    }
   ],
   "source": [
    "import numpy as np\n",
    "\n",
    "data: list[list[int]] = [[0, 1, 2, 3],\n",
    "                        [4, 5, 6, 7],\n",
    "                        [8, 9, 10, 11]]\n",
    "\n",
    "arr: np.ndarray = np.array(data)\n",
    "\n",
    "print(arr)\n",
    "print(f\"Shape of Object {arr.shape}\")  # 3 rows and 4 columns\n",
    "print(arr.dtype)\n",
    "print(f\"Number of Dimensions {arr.ndim}\")  # 2 dimensional array\n",
    "print(f\"Total Items in array {arr.size}\")  # Total elements in array\n",
    "print(arr.itemsize)  # each item size"
   ]
  },
  {
   "cell_type": "code",
   "execution_count": 7,
   "metadata": {},
   "outputs": [
    {
     "name": "stdout",
     "output_type": "stream",
     "text": [
      "[ 1  2  3  4  5  6  7  8  9 10]\n",
      "[ 6  7  8  9 10 11 12 13 14 15]\n"
     ]
    }
   ],
   "source": [
    "import numpy as np\n",
    "\n",
    "data:np.ndarray=np.arange(1,11)\n",
    "\n",
    "print(data)\n",
    "print(data+5)"
   ]
  },
  {
   "cell_type": "markdown",
   "metadata": {},
   "source": [
    "### Compare numpy vs traditional method"
   ]
  },
  {
   "cell_type": "code",
   "execution_count": 20,
   "metadata": {},
   "outputs": [
    {
     "name": "stdout",
     "output_type": "stream",
     "text": [
      "0.04847884178161621\n"
     ]
    }
   ],
   "source": [
    "import numpy as np\n",
    "import time\n",
    "start_time=time.time()\n",
    "data:np.ndarray=np.arange(1,10000000)\n",
    "data+5\n",
    "end_time=time.time()\n",
    "\n",
    "elapsed_time=end_time-start_time\n",
    "print(elapsed_time)\n"
   ]
  },
  {
   "cell_type": "code",
   "execution_count": 22,
   "metadata": {},
   "outputs": [
    {
     "name": "stdout",
     "output_type": "stream",
     "text": [
      "2.7003087997436523\n"
     ]
    }
   ],
   "source": [
    "start_time=time.time()\n",
    "data:list[int]=list(range(1,10000000))\n",
    "\n",
    "[i+5 for i in data]\n",
    "end_time=time.time()\n",
    "elapsed_time=end_time-start_time\n",
    "print(elapsed_time)"
   ]
  },
  {
   "cell_type": "code",
   "execution_count": 23,
   "metadata": {},
   "outputs": [
    {
     "name": "stdout",
     "output_type": "stream",
     "text": [
      "[1, 2, 3, 4, 5, 6, 7, 8, 9, 10, 11, 12, 13, 14, 15, 16, 17, 18, 19, 20]\n",
      "[6, 7, 8, 9, 10, 11]\n"
     ]
    },
    {
     "ename": "TypeError",
     "evalue": "can only assign an iterable",
     "output_type": "error",
     "traceback": [
      "\u001b[1;31m---------------------------------------------------------------------------\u001b[0m",
      "\u001b[1;31mTypeError\u001b[0m                                 Traceback (most recent call last)",
      "\u001b[1;32md:\\Modern-Python\\class 16\\class16.ipynb Cell 7\u001b[0m line \u001b[0;36m4\n\u001b[0;32m      <a href='vscode-notebook-cell:/d%3A/Modern-Python/class%2016/class16.ipynb#W6sZmlsZQ%3D%3D?line=1'>2</a>\u001b[0m \u001b[39mprint\u001b[39m(data)\n\u001b[0;32m      <a href='vscode-notebook-cell:/d%3A/Modern-Python/class%2016/class16.ipynb#W6sZmlsZQ%3D%3D?line=2'>3</a>\u001b[0m \u001b[39mprint\u001b[39m(data[\u001b[39m5\u001b[39m:\u001b[39m11\u001b[39m])\n\u001b[1;32m----> <a href='vscode-notebook-cell:/d%3A/Modern-Python/class%2016/class16.ipynb#W6sZmlsZQ%3D%3D?line=3'>4</a>\u001b[0m data[\u001b[39m5\u001b[39;49m:\u001b[39m11\u001b[39;49m] \u001b[39m=\u001b[39m \u001b[39m1000\u001b[39m \u001b[39m# normal python list\u001b[39;00m\n\u001b[0;32m      <a href='vscode-notebook-cell:/d%3A/Modern-Python/class%2016/class16.ipynb#W6sZmlsZQ%3D%3D?line=4'>5</a>\u001b[0m \u001b[39mprint\u001b[39m(data)\n",
      "\u001b[1;31mTypeError\u001b[0m: can only assign an iterable"
     ]
    }
   ],
   "source": [
    "data : list[int] = list(range(1,21))\n",
    "print(data)\n",
    "print(data[5:11])\n",
    "data[5:11] = 1000 # normal python list that perform task is not possible except numpy\n",
    "print(data)"
   ]
  },
  {
   "cell_type": "code",
   "execution_count": 26,
   "metadata": {},
   "outputs": [
    {
     "name": "stdout",
     "output_type": "stream",
     "text": [
      "[ 1  2  3  4  5  6  7  8  9 10 11 12 13 14 15 16 17 18 19 20]\n",
      "[ 6  7  8  9 10 11]\n",
      "[   1    2    3    4    5 1000 1000 1000 1000 1000 1000   12   13   14\n",
      "   15   16   17   18   19   20]\n"
     ]
    }
   ],
   "source": [
    "import numpy as np\n",
    "\n",
    "data:np.ndarray=np.arange(1,21)\n",
    "print(data)\n",
    "print(data[5:11])\n",
    "data[5:11]=1000\n",
    "print(data)"
   ]
  },
  {
   "cell_type": "code",
   "execution_count": 27,
   "metadata": {},
   "outputs": [
    {
     "name": "stdout",
     "output_type": "stream",
     "text": [
      "[1 2 3 4 5]\n",
      "[1 4 5]\n"
     ]
    }
   ],
   "source": [
    "import numpy as np\n",
    "\n",
    "data:np.ndarray=np.array([1,2,3,4,5])\n",
    "print(data)\n",
    "data1:np.ndarray=np.array([True,False,False,True,True])\n",
    "print(data[data1])     # Return those index values which are true\n"
   ]
  },
  {
   "cell_type": "code",
   "execution_count": 28,
   "metadata": {},
   "outputs": [
    {
     "name": "stdout",
     "output_type": "stream",
     "text": [
      "[1 2 3 4 5]\n",
      "[2 4]\n"
     ]
    }
   ],
   "source": [
    "import numpy as np\n",
    "\n",
    "data:np.ndarray=np.array([1,2,3,4,5])\n",
    "print(data)\n",
    "print(data[data%2==0])         # Return those index values which are even/true "
   ]
  },
  {
   "cell_type": "code",
   "execution_count": 31,
   "metadata": {},
   "outputs": [
    {
     "name": "stdout",
     "output_type": "stream",
     "text": [
      "[1 2 3 4 5]\n",
      "[ True]\n",
      "[3]\n"
     ]
    }
   ],
   "source": [
    "print(data)\n",
    "#       Value which wanna search              where we search\n",
    "print(np.in1d(3,                                    data))  # return value in boolean\n",
    "\n",
    "print(np.intersect1d(3,data))   # return intersection value"
   ]
  },
  {
   "cell_type": "code",
   "execution_count": 32,
   "metadata": {},
   "outputs": [
    {
     "data": {
      "text/plain": [
       "array([1, 3, 4, 5, 7])"
      ]
     },
     "metadata": {},
     "output_type": "display_data"
    },
    {
     "data": {
      "text/plain": [
       "array([  6,   3,   2,   5, 100])"
      ]
     },
     "metadata": {},
     "output_type": "display_data"
    },
    {
     "data": {
      "text/plain": [
       "array([  6,   3,   4,   5, 100])"
      ]
     },
     "execution_count": 32,
     "metadata": {},
     "output_type": "execute_result"
    }
   ],
   "source": [
    "x : np.ndarray = np.array([1,3,4,5,7])\n",
    "y : np.ndarray = np.array([6,3,2,5,100])\n",
    "\n",
    "display(x)\n",
    "display(y)\n",
    "np.where(x > y, x, y)  # check both arrrays an return where value is maximum"
   ]
  },
  {
   "cell_type": "markdown",
   "metadata": {},
   "source": [
    "# Create Numpy arrays"
   ]
  },
  {
   "cell_type": "code",
   "execution_count": 33,
   "metadata": {},
   "outputs": [
    {
     "name": "stdout",
     "output_type": "stream",
     "text": [
      "[[0 1 2]\n",
      " [3 4 5]\n",
      " [6 7 8]]\n",
      "[[ 0  1  2]\n",
      " [ 3  4  5]\n",
      " [ 6  7  8]\n",
      " [ 9 10 11]\n",
      " [12 13 14]]\n"
     ]
    }
   ],
   "source": [
    "a : np.ndarray = np.arange(3*3).reshape(3,3)\n",
    "print(a)\n",
    "a : np.ndarray = np.arange(5*3).reshape(5,3)\n",
    "print(a)"
   ]
  },
  {
   "cell_type": "code",
   "execution_count": 34,
   "metadata": {},
   "outputs": [
    {
     "name": "stdout",
     "output_type": "stream",
     "text": [
      "[[[ 0  1  2]\n",
      "  [ 3  4  5]\n",
      "  [ 6  7  8]]\n",
      "\n",
      " [[ 9 10 11]\n",
      "  [12 13 14]\n",
      "  [15 16 17]]]\n",
      "=======\n",
      "[[[ 0  1]\n",
      "  [ 2  3]]\n",
      "\n",
      " [[ 4  5]\n",
      "  [ 6  7]]\n",
      "\n",
      " [[ 8  9]\n",
      "  [10 11]]\n",
      "\n",
      " [[12 13]\n",
      "  [14 15]]\n",
      "\n",
      " [[16 17]\n",
      "  [18 19]]]\n"
     ]
    }
   ],
   "source": [
    "a : np.ndarray = np.arange(2*3*3).reshape(2,3,3)\n",
    "print(a)\n",
    "print('=======')\n",
    "a : np.ndarray = np.arange(5*2*2).reshape(5,2,2)\n",
    "print(a)"
   ]
  },
  {
   "cell_type": "code",
   "execution_count": 35,
   "metadata": {},
   "outputs": [
    {
     "data": {
      "text/plain": [
       "array([0., 0., 0., 0., 0., 0., 0., 0., 0., 0.])"
      ]
     },
     "execution_count": 35,
     "metadata": {},
     "output_type": "execute_result"
    }
   ],
   "source": [
    "np.zeros(10)"
   ]
  },
  {
   "cell_type": "code",
   "execution_count": 36,
   "metadata": {},
   "outputs": [
    {
     "data": {
      "text/plain": [
       "array([[0., 0.],\n",
       "       [0., 0.]])"
      ]
     },
     "execution_count": 36,
     "metadata": {},
     "output_type": "execute_result"
    }
   ],
   "source": [
    "np.zeros((2,2))"
   ]
  },
  {
   "cell_type": "code",
   "execution_count": 37,
   "metadata": {},
   "outputs": [
    {
     "data": {
      "text/plain": [
       "array([[1., 1.],\n",
       "       [1., 1.]])"
      ]
     },
     "execution_count": 37,
     "metadata": {},
     "output_type": "execute_result"
    }
   ],
   "source": [
    "np.ones((2,2))"
   ]
  },
  {
   "cell_type": "code",
   "execution_count": 38,
   "metadata": {},
   "outputs": [
    {
     "name": "stdout",
     "output_type": "stream",
     "text": [
      "[[[ 0  1]\n",
      "  [ 2  3]]\n",
      "\n",
      " [[ 4  5]\n",
      "  [ 6  7]]\n",
      "\n",
      " [[ 8  9]\n",
      "  [10 11]]\n",
      "\n",
      " [[12 13]\n",
      "  [14 15]]\n",
      "\n",
      " [[16 17]\n",
      "  [18 19]]]\n"
     ]
    }
   ],
   "source": [
    "a : np.ndarray = np.arange(5*2*2).reshape(5,2,2)\n",
    "print(a)"
   ]
  },
  {
   "cell_type": "code",
   "execution_count": 39,
   "metadata": {},
   "outputs": [
    {
     "data": {
      "text/plain": [
       "array([[[1, 1],\n",
       "        [1, 1]],\n",
       "\n",
       "       [[1, 1],\n",
       "        [1, 1]],\n",
       "\n",
       "       [[1, 1],\n",
       "        [1, 1]],\n",
       "\n",
       "       [[1, 1],\n",
       "        [1, 1]],\n",
       "\n",
       "       [[1, 1],\n",
       "        [1, 1]]])"
      ]
     },
     "execution_count": 39,
     "metadata": {},
     "output_type": "execute_result"
    }
   ],
   "source": [
    "np.ones_like(a)"
   ]
  },
  {
   "cell_type": "code",
   "execution_count": 40,
   "metadata": {},
   "outputs": [
    {
     "name": "stdout",
     "output_type": "stream",
     "text": [
      "[ 1  2  3  4  5  6  7  8  9 10 11 12 13 14 15 16 17 18 19 20]\n",
      "1\n",
      "20\n",
      "19\n",
      "<built-in method argmin of numpy.ndarray object at 0x00000206FDB03C90>\n",
      "10.5\n",
      "5.766281297335398\n",
      "210\n",
      "[  1   3   6  10  15  21  28  36  45  55  66  78  91 105 120 136 153 171\n",
      " 190 210]\n"
     ]
    }
   ],
   "source": [
    "ndata : np.ndarray = np.arange(1,21)\n",
    "\n",
    "print(ndata)\n",
    "print(ndata.min())\n",
    "print(ndata.max())\n",
    "print(ndata.argmax())  # return maximum value index number\n",
    "print(ndata.argmin)\n",
    "print(ndata.mean())\n",
    "print(ndata.std())  # std means standard deviation\n",
    "print(ndata.sum())\n",
    "print(ndata.cumsum())   # cummulative sum"
   ]
  }
 ],
 "metadata": {
  "kernelspec": {
   "display_name": "python12",
   "language": "python",
   "name": "python3"
  },
  "language_info": {
   "codemirror_mode": {
    "name": "ipython",
    "version": 3
   },
   "file_extension": ".py",
   "mimetype": "text/x-python",
   "name": "python",
   "nbconvert_exporter": "python",
   "pygments_lexer": "ipython3",
   "version": "3.12.0"
  }
 },
 "nbformat": 4,
 "nbformat_minor": 2
}
