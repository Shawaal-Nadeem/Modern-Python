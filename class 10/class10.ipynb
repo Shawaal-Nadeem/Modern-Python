{
 "cells": [
  {
   "cell_type": "markdown",
   "metadata": {},
   "source": [
    "# Functions\n",
    "\n",
    "- pre-define function\n",
    "  - provided by in language\n",
    "- user-define function\n",
    "  - custom function\n",
    "\n",
    "## Similr Properties on both type\n",
    "\n",
    "- Return and not return function\n",
    "  - Return\n",
    "    - we can assign this function output in any variable\n",
    "  - Non Return\n",
    "    - Only run we can't assign value\n",
    "\n",
    "## components\n",
    "\n",
    "- function declaration\n",
    "- function body\n",
    "- function calling\n",
    "\n",
    "## Syntax Function\n",
    "\n",
    "```\n",
    "def function_name(param1:type,param2:type,...)->Return_Type:\n",
    "    function Body\n",
    "\n",
    "function_name(arg1,arg2)\n",
    "```\n"
   ]
  },
  {
   "cell_type": "markdown",
   "metadata": {},
   "source": [
    "## Pre-define Function\n",
    "\n",
    "- print\n",
    "- len\n",
    "- id\n",
    "- dir\n",
    "- chr\n",
    "- ord\n",
    "- exec\n"
   ]
  },
  {
   "cell_type": "markdown",
   "metadata": {},
   "source": [
    "# Return and non Return function\n"
   ]
  },
  {
   "cell_type": "code",
   "execution_count": 2,
   "metadata": {},
   "outputs": [
    {
     "name": "stdout",
     "output_type": "stream",
     "text": [
      "Pakistan\n",
      "None\n",
      "8\n"
     ]
    }
   ],
   "source": [
    "a: str = print(\"Pakistan\")  # Non return\n",
    "print(a)\n",
    "\n",
    "a: int = len(\"Pakistan\")  # Return\n",
    "print(a)"
   ]
  },
  {
   "cell_type": "markdown",
   "metadata": {},
   "source": [
    "# Custom Function\n"
   ]
  },
  {
   "cell_type": "code",
   "execution_count": 3,
   "metadata": {},
   "outputs": [
    {
     "name": "stdout",
     "output_type": "stream",
     "text": [
      "30\n"
     ]
    }
   ],
   "source": [
    "def add(a: int, b: int) -> int:\n",
    "    return a + b\n",
    "\n",
    "\n",
    "x: int = 10\n",
    "y: int = 20\n",
    "z: int = add(x, y)\n",
    "print(z)"
   ]
  },
  {
   "cell_type": "code",
   "execution_count": 4,
   "metadata": {},
   "outputs": [
    {
     "name": "stdout",
     "output_type": "stream",
     "text": [
      "30\n"
     ]
    }
   ],
   "source": [
    "def add(a: int, b: int) -> None:\n",
    "    print(a + b)\n",
    "\n",
    "\n",
    "x: int = 10\n",
    "y: int = 20\n",
    "add(x, y)"
   ]
  },
  {
   "cell_type": "markdown",
   "metadata": {},
   "source": [
    "## Optional Parameter\n"
   ]
  },
  {
   "cell_type": "code",
   "execution_count": 6,
   "metadata": {},
   "outputs": [
    {
     "name": "stdout",
     "output_type": "stream",
     "text": [
      "12\n",
      "30\n"
     ]
    }
   ],
   "source": [
    "def add(a: int, b: int = 2) -> None:\n",
    "    print(a + b)\n",
    "\n",
    "\n",
    "x: int = 10\n",
    "y: int = 20\n",
    "add(x)\n",
    "add(x, y)"
   ]
  },
  {
   "cell_type": "markdown",
   "metadata": {},
   "source": [
    "## Lambda Function\n",
    "\n",
    "- 1 line function\n",
    "- without name\n",
    "- only use in this line\n",
    "\n",
    "```\n",
    "lambda param1,param2: function Body\n",
    "```\n"
   ]
  },
  {
   "cell_type": "code",
   "execution_count": 7,
   "metadata": {},
   "outputs": [
    {
     "data": {
      "text/plain": [
       "15"
      ]
     },
     "execution_count": 7,
     "metadata": {},
     "output_type": "execute_result"
    }
   ],
   "source": [
    "a = lambda num1, num2: num1 + num2\n",
    "a(7, 8)"
   ]
  },
  {
   "cell_type": "code",
   "execution_count": 14,
   "metadata": {},
   "outputs": [
    {
     "name": "stdout",
     "output_type": "stream",
     "text": [
      "30\n"
     ]
    }
   ],
   "source": [
    "from typing import Callable\n",
    "\n",
    "# Give data types in lambda function so we use callable\n",
    "add: Callable[[int, int], int] = lambda x, y: x + y\n",
    "print(add(10, 20))"
   ]
  },
  {
   "cell_type": "code",
   "execution_count": 12,
   "metadata": {},
   "outputs": [
    {
     "name": "stdout",
     "output_type": "stream",
     "text": [
      "[2, 4, 6, 8, 10]\n"
     ]
    }
   ],
   "source": [
    "data: list[int] = [1, 2, 3, 4, 5, 6, 7, 8, 9, 10]\n",
    "\n",
    "# data= list(map(lambda x:x*2,data))\n",
    "data = list(filter(lambda x: x % 2 == 0, data))\n",
    "print(data)"
   ]
  },
  {
   "cell_type": "markdown",
   "metadata": {},
   "source": [
    "## Generator Function\n"
   ]
  },
  {
   "cell_type": "code",
   "execution_count": 28,
   "metadata": {},
   "outputs": [
    {
     "name": "stdout",
     "output_type": "stream",
     "text": [
      "1\n",
      "2\n",
      "3\n",
      "4\n",
      "5\n",
      "6\n",
      "7\n",
      "8\n",
      "9\n",
      "10\n"
     ]
    }
   ],
   "source": [
    "def my_Range(start: int, end: int, step: int = 1):\n",
    "    for i in range(start, end + 1, step):\n",
    "        yield i  # yield keyword means generator function\n",
    "\n",
    "\n",
    "a = my_Range(1, 10)\n",
    "# print(list(a)) # Complete List show\n",
    "# Alternative and iterative method\n",
    "print(next(a))\n",
    "print(next(a))\n",
    "print(next(a))\n",
    "print(next(a))\n",
    "print(next(a))\n",
    "print(next(a))\n",
    "print(next(a))\n",
    "print(next(a))\n",
    "print(next(a))\n",
    "print(next(a))"
   ]
  },
  {
   "cell_type": "code",
   "execution_count": 29,
   "metadata": {},
   "outputs": [
    {
     "name": "stdout",
     "output_type": "stream",
     "text": [
      "[2, 4, 6, 8, 10]\n"
     ]
    }
   ],
   "source": [
    "\n",
    "# Benifit of generator function we don't store array in memory\n",
    "# data= list(map(lambda x:x*2,data))\n",
    "data = list(filter(lambda x: x % 2 == 0, range(1,11)))\n",
    "print(data)"
   ]
  },
  {
   "cell_type": "markdown",
   "metadata": {},
   "source": [
    "# Pass unlimited arguments"
   ]
  },
  {
   "cell_type": "code",
   "execution_count": 30,
   "metadata": {},
   "outputs": [
    {
     "name": "stdout",
     "output_type": "stream",
     "text": [
      "(1, 2, 3, 4, 5, 6, 7) <class 'tuple'>\n"
     ]
    }
   ],
   "source": [
    "def abc(*nums):\n",
    "    print(nums,type(nums))\n",
    "\n",
    "abc(1,2,3,4,5,6,7)    # We can pass unlimited numbers"
   ]
  },
  {
   "cell_type": "code",
   "execution_count": 31,
   "metadata": {},
   "outputs": [
    {
     "name": "stdout",
     "output_type": "stream",
     "text": [
      "{'a': 1, 'b': 2, 'd': 4, 'c': 1, 'name': 'Shawaal'} <class 'dict'>\n"
     ]
    }
   ],
   "source": [
    "def xyz(**args):\n",
    "    print(args,type(args))\n",
    "\n",
    "xyz(a=1,b=2,d=4,c=1,name='Shawaal')    # We can pass unlimited numbers"
   ]
  },
  {
   "cell_type": "markdown",
   "metadata": {},
   "source": [
    "# Decorator Function"
   ]
  },
  {
   "cell_type": "code",
   "execution_count": 34,
   "metadata": {},
   "outputs": [
    {
     "name": "stdout",
     "output_type": "stream",
     "text": [
      "Before Function\n",
      "Hello\n",
      "After Function\n"
     ]
    }
   ],
   "source": [
    "def my_decorator(func):\n",
    "    def wrapper():\n",
    "        print('Before Function')\n",
    "        func()\n",
    "        print('After Function')\n",
    "    return wrapper\n",
    "@my_decorator\n",
    "def greet():\n",
    "    print('Hello')\n",
    "greet()"
   ]
  }
 ],
 "metadata": {
  "kernelspec": {
   "display_name": "python12",
   "language": "python",
   "name": "python3"
  },
  "language_info": {
   "codemirror_mode": {
    "name": "ipython",
    "version": 3
   },
   "file_extension": ".py",
   "mimetype": "text/x-python",
   "name": "python",
   "nbconvert_exporter": "python",
   "pygments_lexer": "ipython3",
   "version": "3.12.0"
  }
 },
 "nbformat": 4,
 "nbformat_minor": 2
}
