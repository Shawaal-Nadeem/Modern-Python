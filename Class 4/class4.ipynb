{
 "cells": [
  {
   "cell_type": "markdown",
   "metadata": {},
   "source": [
    "# List & its Methods"
   ]
  },
  {
   "cell_type": "markdown",
   "metadata": {},
   "source": [
    "# List\n",
    "* Dynamic Length\n",
    "* Heterogenous Data Types (Multiple Type)\n",
    "* Index\n",
    "    * Positive 0 to n-1\n",
    "    * Negative -1 to length\n",
    "* Slicing\n",
    "    * Start : int =  include\n",
    "    * End : int = n-1\n",
    "    * Step : int = sequence\n",
    "    * variable `names[start:end:step]`"
   ]
  },
  {
   "cell_type": "code",
   "execution_count": 29,
   "metadata": {},
   "outputs": [
    {
     "name": "stdout",
     "output_type": "stream",
     "text": [
      "Nancy\n",
      "Nancy\n",
      "True\n",
      "True\n"
     ]
    }
   ],
   "source": [
    "from typing import Any\n",
    "#->                  0       1         2      3   4 \n",
    "names:list[Any]=[\"Shawaal\",\"Nancy\",\"Kill Joy\",2,True]\n",
    "#<-                 -5      -4        -3     -2  -1\n",
    "\n",
    "print(names[1])\n",
    "print(names[-4])\n",
    "print(names[4])\n",
    "print(names[-1])"
   ]
  },
  {
   "cell_type": "markdown",
   "metadata": {},
   "source": [
    "# Slicing"
   ]
  },
  {
   "cell_type": "code",
   "execution_count": 9,
   "metadata": {},
   "outputs": [
    {
     "name": "stdout",
     "output_type": "stream",
     "text": [
      "['A', 'B']\n",
      "['A', 'B']\n",
      "['A', 'B']\n",
      "['A', 'B', 'C', 'D', 'E', 'F', 'G', 'H', 'I', 'J', 'K', 'L', 'M', 'N', 'O', 'P', 'Q', 'R', 'S', 'T', 'U', 'V', 'W', 'X', 'Y']\n",
      "['A', 'C', 'E', 'G', 'I', 'K', 'M', 'O', 'Q', 'S', 'U', 'W', 'Y']\n",
      "['A', 'D', 'G', 'J', 'M', 'P', 'S', 'V', 'Y']\n"
     ]
    }
   ],
   "source": [
    "characters: list[str] = ['A', 'B', 'C', 'D', 'E', 'F', 'G', 'H', 'I', 'J', 'K', 'L', 'M', 'N', 'O', 'P', 'Q', 'R', 'S', 'T', 'U', 'V', 'W', 'X', 'Y', 'Z']\n",
    "print(characters[0:2])\n",
    "print(characters[:2])\n",
    "print(characters[-26:-24])\n",
    "print(characters[0:25:1])\n",
    "print(characters[0:25:2])\n",
    "print(characters[0:25:3])"
   ]
  },
  {
   "cell_type": "markdown",
   "metadata": {},
   "source": [
    "# List Methods"
   ]
  },
  {
   "cell_type": "markdown",
   "metadata": {},
   "source": [
    "# Pop Method\n",
    "Delete Element at last or (Specific position with the help of Index)"
   ]
  },
  {
   "cell_type": "code",
   "execution_count": 12,
   "metadata": {},
   "outputs": [
    {
     "name": "stdout",
     "output_type": "stream",
     "text": [
      "Raze\n",
      "Nancy\n",
      "['Shawaal', 'Kill Joy']\n"
     ]
    }
   ],
   "source": [
    "names:list[str]=['Shawaal','Nancy','Kill Joy','Raze']\n",
    "sisKillJoy:str=names.pop()\n",
    "print(sisKillJoy)\n",
    "crush:str=names.pop(1)\n",
    "print(crush)\n",
    "print(names)"
   ]
  },
  {
   "cell_type": "markdown",
   "metadata": {},
   "source": [
    "# Append Method \n",
    "Insert Element at last "
   ]
  },
  {
   "cell_type": "code",
   "execution_count": 16,
   "metadata": {},
   "outputs": [
    {
     "name": "stdout",
     "output_type": "stream",
     "text": [
      "[]\n",
      "['Shawaal', 'Kill Joy', 'Nancy']\n"
     ]
    }
   ],
   "source": [
    "names:list[str]=[]\n",
    "print(names)\n",
    "names.append(\"Shawaal\")\n",
    "names.append(\"Kill Joy\")\n",
    "names.append(\"Nancy\")\n",
    "print(names)"
   ]
  },
  {
   "cell_type": "markdown",
   "metadata": {},
   "source": [
    "# Insert Method\n",
    "Insert element at specific position"
   ]
  },
  {
   "cell_type": "code",
   "execution_count": 17,
   "metadata": {},
   "outputs": [
    {
     "name": "stdout",
     "output_type": "stream",
     "text": [
      "['Shawaal', 'Nancy', 'Kill Joy', 'Nancy']\n"
     ]
    }
   ],
   "source": [
    "names.insert(1,\"Nancy\")\n",
    "print(names)"
   ]
  },
  {
   "cell_type": "markdown",
   "metadata": {},
   "source": [
    "# Clear Method\n",
    "Empty data in list"
   ]
  },
  {
   "cell_type": "code",
   "execution_count": 18,
   "metadata": {},
   "outputs": [
    {
     "name": "stdout",
     "output_type": "stream",
     "text": [
      "[]\n"
     ]
    }
   ],
   "source": [
    "names.clear()\n",
    "print(names)"
   ]
  },
  {
   "cell_type": "markdown",
   "metadata": {},
   "source": [
    "# Problem in Copy"
   ]
  },
  {
   "cell_type": "code",
   "execution_count": 19,
   "metadata": {},
   "outputs": [
    {
     "name": "stdout",
     "output_type": "stream",
     "text": [
      "['a', 'b', 'c']\n",
      "['a', 'b', 'c']\n",
      "['Pakistan', 'b', 'c']\n",
      "['Pakistan', 'b', 'c']\n"
     ]
    }
   ],
   "source": [
    "a:list[str]=['a','b','c']\n",
    "b=a\n",
    "print(a)\n",
    "print(b)\n",
    "b[0]='Pakistan'  # change only b variable but  both variables updated because of Shalow copy\n",
    "print(a)\n",
    "print(b)"
   ]
  },
  {
   "cell_type": "markdown",
   "metadata": {},
   "source": [
    "# Resolve Problem Copy"
   ]
  },
  {
   "cell_type": "code",
   "execution_count": 20,
   "metadata": {},
   "outputs": [
    {
     "name": "stdout",
     "output_type": "stream",
     "text": [
      "['a', 'b', 'c']\n",
      "['a', 'b', 'c']\n",
      "['a', 'b', 'c']\n",
      "['Pakistan', 'b', 'c']\n"
     ]
    }
   ],
   "source": [
    "a:list[str]=['a','b','c']\n",
    "b=a.copy()     # Deep Copy\n",
    "print(a)\n",
    "print(b)\n",
    "b[0]='Pakistan'\n",
    "print(a)\n",
    "print(b)"
   ]
  },
  {
   "cell_type": "markdown",
   "metadata": {},
   "source": [
    "# Count Method\n",
    "Count how many times data is present"
   ]
  },
  {
   "cell_type": "code",
   "execution_count": 23,
   "metadata": {},
   "outputs": [
    {
     "name": "stdout",
     "output_type": "stream",
     "text": [
      "2\n"
     ]
    }
   ],
   "source": [
    "a:list[str]=['a','b','c','a','d','c']\n",
    "print(a.count('a'))"
   ]
  },
  {
   "cell_type": "markdown",
   "metadata": {},
   "source": [
    "# Extend Method\n",
    "Merge 2 Lists"
   ]
  },
  {
   "cell_type": "code",
   "execution_count": 31,
   "metadata": {},
   "outputs": [
    {
     "name": "stdout",
     "output_type": "stream",
     "text": [
      "['Shawaal', 'Nancy', 'Kill Joy', 'Raze']\n"
     ]
    }
   ],
   "source": [
    "names:list[str]=['Shawaal','Nancy']\n",
    "newNames:list[str]=['Kill Joy','Raze']\n",
    "names.extend(newNames)\n",
    "print(names)"
   ]
  },
  {
   "cell_type": "markdown",
   "metadata": {},
   "source": [
    "# Remove Method\n",
    "Delete Element with the help of value in list"
   ]
  },
  {
   "cell_type": "code",
   "execution_count": 32,
   "metadata": {},
   "outputs": [
    {
     "name": "stdout",
     "output_type": "stream",
     "text": [
      "['Shawaal', 'Nancy', 'Kill Joy', 'Raze']\n",
      "['Shawaal', 'Nancy', 'Raze']\n"
     ]
    }
   ],
   "source": [
    "print(names)\n",
    "names.remove('Kill Joy')\n",
    "print(names)"
   ]
  },
  {
   "cell_type": "markdown",
   "metadata": {},
   "source": [
    "# Index Method\n",
    "Return index value "
   ]
  },
  {
   "cell_type": "code",
   "execution_count": 33,
   "metadata": {},
   "outputs": [
    {
     "name": "stdout",
     "output_type": "stream",
     "text": [
      "['Shawaal', 'Nancy', 'Raze']\n",
      "2\n"
     ]
    }
   ],
   "source": [
    "print(names)\n",
    "print(names.index('Raze'))"
   ]
  },
  {
   "cell_type": "markdown",
   "metadata": {},
   "source": [
    "# Reverse Method"
   ]
  },
  {
   "cell_type": "code",
   "execution_count": 34,
   "metadata": {},
   "outputs": [
    {
     "name": "stdout",
     "output_type": "stream",
     "text": [
      "['Shawaal', 'Nancy', 'Raze']\n",
      "['Raze', 'Nancy', 'Shawaal']\n"
     ]
    }
   ],
   "source": [
    "print(names)\n",
    "names.reverse()\n",
    "print(names)"
   ]
  },
  {
   "cell_type": "markdown",
   "metadata": {},
   "source": [
    "# Sort Method"
   ]
  },
  {
   "cell_type": "code",
   "execution_count": 36,
   "metadata": {},
   "outputs": [
    {
     "name": "stdout",
     "output_type": "stream",
     "text": [
      "[1, 2, 3, 4, 5, 8, 9]\n",
      "['A', 'B', 'W', 'Z']\n"
     ]
    }
   ],
   "source": [
    "numbers:list[int]=[8,4,5,3,2,9,1]\n",
    "numbers.sort()\n",
    "print(numbers)\n",
    "\n",
    "alphabets:list[str]=['B','A','Z','W']\n",
    "alphabets.sort()\n",
    "print(alphabets)"
   ]
  }
 ],
 "metadata": {
  "kernelspec": {
   "display_name": "python12",
   "language": "python",
   "name": "python3"
  },
  "language_info": {
   "codemirror_mode": {
    "name": "ipython",
    "version": 3
   },
   "file_extension": ".py",
   "mimetype": "text/x-python",
   "name": "python",
   "nbconvert_exporter": "python",
   "pygments_lexer": "ipython3",
   "version": "3.12.0"
  }
 },
 "nbformat": 4,
 "nbformat_minor": 2
}
