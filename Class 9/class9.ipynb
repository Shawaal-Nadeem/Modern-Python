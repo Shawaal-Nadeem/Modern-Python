{
 "cells": [
  {
   "cell_type": "markdown",
   "metadata": {},
   "source": [
    "# Loop and input from user\n",
    "* while\n",
    "* for\n",
    "* controls\n",
    "    * break\n",
    "    * continue\n",
    "    * pass\n",
    "* input with input function\n",
    "* input from console\n",
    "# Loop working on iterative data types\n",
    "* list \n",
    "* dictionary\n",
    "* tuple\n",
    "* string\n",
    "\n"
   ]
  },
  {
   "cell_type": "code",
   "execution_count": 1,
   "metadata": {},
   "outputs": [
    {
     "name": "stdout",
     "output_type": "stream",
     "text": [
      "[1, 2, 6, 2, 3, 1, 5]\n",
      "1\n",
      "2\n",
      "6\n",
      "2\n",
      "3\n",
      "1\n",
      "5\n"
     ]
    }
   ],
   "source": [
    "# Iteration on List\n",
    "numbersList:list[int]=[1,2,6,2,3,1,5]\n",
    "print(numbersList)\n",
    "for n in numbersList:\n",
    "    print(n)"
   ]
  },
  {
   "cell_type": "code",
   "execution_count": 2,
   "metadata": {},
   "outputs": [
    {
     "name": "stdout",
     "output_type": "stream",
     "text": [
      "P\n",
      "a\n",
      "k\n",
      "i\n",
      "s\n",
      "t\n",
      "a\n",
      "n\n"
     ]
    }
   ],
   "source": [
    "# Iteration on String\n",
    "country:str='Pakistan'\n",
    "for i in country:\n",
    "    print(i)"
   ]
  },
  {
   "cell_type": "code",
   "execution_count": 5,
   "metadata": {},
   "outputs": [
    {
     "name": "stdout",
     "output_type": "stream",
     "text": [
      "Key are : Name and value are Shawaal\n",
      "Key are : Father Name and value are Nadeem\n",
      "Key are : Age and value are 22\n"
     ]
    }
   ],
   "source": [
    "# Iteration on Keys\n",
    "student:dict[str,str|int]={\n",
    "    'Name':'Shawaal',\n",
    "    'Father Name':'Nadeem',\n",
    "    'Age':22\n",
    "}\n",
    "for item in student:\n",
    "    print(f'Key are : {item} and value are {student[item]}')"
   ]
  },
  {
   "cell_type": "code",
   "execution_count": 10,
   "metadata": {},
   "outputs": [
    {
     "name": "stdout",
     "output_type": "stream",
     "text": [
      "{1, 2, 3, 5, 6}\n",
      "1\n",
      "2\n",
      "3\n",
      "5\n",
      "6\n"
     ]
    }
   ],
   "source": [
    "# Iteration on Set\n",
    "numbersSet:set[int]={1,2,6,2,3,1,5}\n",
    "print(numbersSet)\n",
    "for i in numbersSet:\n",
    "    print(i)"
   ]
  },
  {
   "cell_type": "markdown",
   "metadata": {},
   "source": [
    "# Input from user\n",
    "* input function \n",
    "    * default type = string\n",
    "* sys.argv (for console input in abc.py file)\n",
    "    * default type = string\n",
    "    * return list"
   ]
  },
  {
   "cell_type": "code",
   "execution_count": 6,
   "metadata": {},
   "outputs": [
    {
     "name": "stdout",
     "output_type": "stream",
     "text": [
      "<class 'str'>\n",
      "Hi Shawaal\n"
     ]
    }
   ],
   "source": [
    "name:str=input('What is your Name ?\\t')\n",
    "print(type(name))\n",
    "print(f'Hi {name}')"
   ]
  },
  {
   "cell_type": "markdown",
   "metadata": {},
   "source": [
    "# Zip function"
   ]
  },
  {
   "cell_type": "code",
   "execution_count": 13,
   "metadata": {},
   "outputs": [
    {
     "name": "stdout",
     "output_type": "stream",
     "text": [
      "[('Shawaal', 'Nadeem', 22), ('Nancy', 'Momoland', 23)]\n"
     ]
    }
   ],
   "source": [
    "nameList:list[str]=['Shawaal','Nancy']\n",
    "fNameList:list[str]=['Nadeem','Momoland']\n",
    "ageList:list[int]=[22,23]\n",
    "print(list(zip(nameList,fNameList,ageList))) # It is Generator so we convert it into list\n"
   ]
  },
  {
   "cell_type": "markdown",
   "metadata": {},
   "source": [
    "# sys.argv"
   ]
  },
  {
   "cell_type": "code",
   "execution_count": 1,
   "metadata": {},
   "outputs": [
    {
     "name": "stdout",
     "output_type": "stream",
     "text": [
      "Line1\n",
      "Line2\n",
      "<class 'list'>\n",
      "['C:\\\\Users\\\\Hp\\\\AppData\\\\Roaming\\\\Python\\\\Python312\\\\site-packages\\\\ipykernel_launcher.py', '--ip=127.0.0.1', '--stdin=9003', '--control=9001', '--hb=9000', '--Session.signature_scheme=\"hmac-sha256\"', '--Session.key=b\"0b662d69-7ee6-418e-8de3-5e9396a0bb43\"', '--shell=9002', '--transport=\"tcp\"', '--iopub=9004', '--f=c:\\\\Users\\\\Hp\\\\AppData\\\\Roaming\\\\jupyter\\\\runtime\\\\kernel-v2-15144NcIhDU9mTg3c.json']\n"
     ]
    }
   ],
   "source": [
    "import sys\n",
    "print(\"Line1\")\n",
    "print(\"Line2\")\n",
    "print(type(sys.argv))\n",
    "\n",
    "print(sys.argv)"
   ]
  },
  {
   "cell_type": "markdown",
   "metadata": {},
   "source": [
    "# Function Syntax"
   ]
  },
  {
   "cell_type": "code",
   "execution_count": 1,
   "metadata": {},
   "outputs": [
    {
     "name": "stdout",
     "output_type": "stream",
     "text": [
      "30\n"
     ]
    }
   ],
   "source": [
    "def add(a:int,b:int)->int:\n",
    "    return a+b\n",
    "x:int=10\n",
    "y:int=20\n",
    "z:int=add(x,y)\n",
    "print(z)\n",
    "    \n"
   ]
  },
  {
   "cell_type": "code",
   "execution_count": 3,
   "metadata": {},
   "outputs": [
    {
     "name": "stdout",
     "output_type": "stream",
     "text": [
      "[2, 4, 6, 8, 10]\n"
     ]
    }
   ],
   "source": [
    "# Extract Even Numbers from List\n",
    "numbersList:list[int]=[1,2,3,4,5,6,7,8,9,10]\n",
    "evenList:list[int]=[]\n",
    "for n in numbersList:\n",
    "    if(n%2==0):\n",
    "        evenList.append(n)\n",
    "print(evenList)\n"
   ]
  }
 ],
 "metadata": {
  "kernelspec": {
   "display_name": "python12",
   "language": "python",
   "name": "python3"
  },
  "language_info": {
   "codemirror_mode": {
    "name": "ipython",
    "version": 3
   },
   "file_extension": ".py",
   "mimetype": "text/x-python",
   "name": "python",
   "nbconvert_exporter": "python",
   "pygments_lexer": "ipython3",
   "version": "3.12.0"
  }
 },
 "nbformat": 4,
 "nbformat_minor": 2
}
