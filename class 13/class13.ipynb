{
 "cells": [
  {
   "cell_type": "markdown",
   "metadata": {},
   "source": [
    "# OOP (Object Oriented Programming)\n",
    "* Class\n",
    "    * method\n",
    "        * first argument must be additional variable (self,this,or anything else)\n",
    "    * attribute\n",
    "    * class variables\n",
    "    * constructor\n",
    "        * def ```__init__(self,arg1,arg2)```\n",
    "\n",
    "## Syntax of Class\n",
    "```\n",
    "class ClassName():\n",
    "    pass\n",
    "```"
   ]
  },
  {
   "cell_type": "code",
   "execution_count": 21,
   "metadata": {},
   "outputs": [],
   "source": [
    "class Teacher():\n",
    "    counter:int=0\n",
    "    phoneNum:str=\"0309-6946556\"\n",
    "    def __init__(self,teacher_id:int,teacher_name:str) -> None:\n",
    "        self.name:str=teacher_name\n",
    "        self.id:int=teacher_id\n",
    "        self.organization:str=\"PIAIC\"\n",
    "        Teacher.counter += 1\n",
    "\n",
    "    def speak(self,words:str):\n",
    "        print(f'{self.name} is speaking {words}')\n",
    "\n",
    "    def teaching(self,subject:str):\n",
    "        print(f\"{self.name} is teaching {subject}\")\n",
    "\n",
    "    "
   ]
  },
  {
   "cell_type": "code",
   "execution_count": 22,
   "metadata": {},
   "outputs": [
    {
     "name": "stdout",
     "output_type": "stream",
     "text": [
      "Ahsaan\n",
      "PIAIC\n",
      "1\n",
      "1\n",
      "0309-6946556\n",
      "0309-6946556\n",
      "Ahsaan is speaking I am your new Teacher\n",
      "Ahsaan is teaching Mathematics & Computer Sciences\n"
     ]
    }
   ],
   "source": [
    "obj1:Teacher=Teacher(1,\"Ahsaan\")\n",
    "print(obj1.name)\n",
    "print(obj1.organization)\n",
    "print(obj1.counter)\n",
    "print(Teacher.counter)\n",
    "print(obj1.phoneNum)\n",
    "print(Teacher.phoneNum)\n",
    "obj1.speak(\"I am your new Teacher\")\n",
    "obj1.teaching(\"Mathematics & Computer Sciences\")"
   ]
  }
 ],
 "metadata": {
  "kernelspec": {
   "display_name": "python12",
   "language": "python",
   "name": "python3"
  },
  "language_info": {
   "codemirror_mode": {
    "name": "ipython",
    "version": 3
   },
   "file_extension": ".py",
   "mimetype": "text/x-python",
   "name": "python",
   "nbconvert_exporter": "python",
   "pygments_lexer": "ipython3",
   "version": "3.12.0"
  }
 },
 "nbformat": 4,
 "nbformat_minor": 2
}
