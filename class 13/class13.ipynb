{
 "cells": [
  {
   "cell_type": "markdown",
   "metadata": {},
   "source": [
    "# OOP (Object Oriented Programming)\n",
    "* Class\n",
    "    * method\n",
    "        * first argument must be additional variable (self,this,or anything else)\n",
    "    * attribute\n",
    "    * class variables\n",
    "    * constructor\n",
    "        * def ```__init__(self,arg1,arg2)```\n",
    "\n",
    "## Syntax of Class\n",
    "```\n",
    "class ClassName():\n",
    "    pass\n",
    "```"
   ]
  },
  {
   "cell_type": "code",
   "execution_count": 21,
   "metadata": {},
   "outputs": [],
   "source": [
    "class Teacher():\n",
    "    counter:int=0\n",
    "    phoneNum:str=\"0309-6946556\"\n",
    "    def __init__(self,teacher_id:int,teacher_name:str) -> None:\n",
    "        self.name:str=teacher_name\n",
    "        self.id:int=teacher_id\n",
    "        self.organization:str=\"PIAIC\"\n",
    "        Teacher.counter += 1\n",
    "\n",
    "    def speak(self,words:str):\n",
    "        print(f'{self.name} is speaking {words}')\n",
    "\n",
    "    def teaching(self,subject:str):\n",
    "        print(f\"{self.name} is teaching {subject}\")\n",
    "\n",
    "    "
   ]
  },
  {
   "cell_type": "code",
   "execution_count": 22,
   "metadata": {},
   "outputs": [
    {
     "name": "stdout",
     "output_type": "stream",
     "text": [
      "Ahsaan\n",
      "PIAIC\n",
      "1\n",
      "1\n",
      "0309-6946556\n",
      "0309-6946556\n",
      "Ahsaan is speaking I am your new Teacher\n",
      "Ahsaan is teaching Mathematics & Computer Sciences\n"
     ]
    }
   ],
   "source": [
    "obj1:Teacher=Teacher(1,\"Ahsaan\")\n",
    "print(obj1.name)\n",
    "print(obj1.organization)\n",
    "print(obj1.counter)\n",
    "print(Teacher.counter)\n",
    "print(obj1.phoneNum)\n",
    "print(Teacher.phoneNum)\n",
    "obj1.speak(\"I am your new Teacher\")\n",
    "obj1.teaching(\"Mathematics & Computer Sciences\")"
   ]
  },
  {
   "cell_type": "markdown",
   "metadata": {},
   "source": [
    "# Pillars of OOP\n",
    "## Encapsulation:\n",
    "* Definition: Encapsulation is the bundling of data (attributes) and the methods (functions) that operate on the data into a single unit called a class. It restricts direct access to some of an object's components and can prevent the accidental modification of data.\n",
    "\n",
    "## Abstraction:\n",
    "* Definition: Abstraction is the process of simplifying complex systems by modeling classes based on the essential properties and behaviors an object should have, while ignoring the non-essential details. It involves creating a representation that focuses on the relevant aspects of an object.\n",
    "\n",
    "## Inheritance:\n",
    "* Definition: Inheritance is a mechanism that allows a new class (subclass or derived class) to inherit the characteristics and behaviors of an existing class (superclass or base class). This promotes code reuse and establishes a relationship between the two classes.\n",
    "\n",
    "## Polymorphism:\n",
    "* Definition: Polymorphism means \"many forms.\" In the context of OOP, it refers to the ability of objects of different classes to be treated as objects of a common base class. Polymorphism allows a single interface to represent different types of objects and enables a single function or method to work with objects of various types."
   ]
  },
  {
   "cell_type": "markdown",
   "metadata": {},
   "source": [
    "### Inheritance\n",
    "```\n",
    "class ChildClass(ParentClass):\n",
    "\n",
    "```"
   ]
  },
  {
   "cell_type": "code",
   "execution_count": 2,
   "metadata": {},
   "outputs": [
    {
     "name": "stdout",
     "output_type": "stream",
     "text": [
      "Brown\n",
      "black\n",
      "Parent method speak: Pakistan zinda bad!\n",
      "You are looking TV!\n",
      "======Child object=======\n",
      "You are looking Cenima!\n",
      "Parent method speak: Hello World\n",
      "Brown\n",
      "black\n"
     ]
    }
   ],
   "source": [
    "class Parents():\n",
    "    def __init__(self)->None:\n",
    "        self.eye_color : str = \"Brown\"\n",
    "        self.hair_color : str = \"black\"\n",
    "\n",
    "    def speak(self, words: str)->None:\n",
    "        print(f\"Parent method speak: {words}\")\n",
    "\n",
    "    def watching(sef, object_name : str)->None:\n",
    "        print(f\"You are looking {object_name}!\")\n",
    "\n",
    "\n",
    "class Child(Parents):\n",
    "    pass \n",
    "\n",
    "\n",
    "obj1 : Parents = Parents()\n",
    "print(obj1.eye_color)\n",
    "print(obj1.hair_color)\n",
    "obj1.speak(\"Pakistan zinda bad!\")\n",
    "obj1.watching(\"TV\")\n",
    "\n",
    "print(\"======Child object=======\")\n",
    "### Child object \n",
    "\n",
    "obj2 : Child = Child()\n",
    "obj2.watching(\"Cenima\")\n",
    "obj2.speak(\"Hello World\")\n",
    "print(obj2.eye_color)\n",
    "print(obj2.hair_color)"
   ]
  },
  {
   "cell_type": "code",
   "execution_count": 5,
   "metadata": {},
   "outputs": [
    {
     "name": "stdout",
     "output_type": "stream",
     "text": [
      "Animation Artist\n",
      "['python']\n"
     ]
    }
   ],
   "source": [
    "class Employee():\n",
    "    def __init__(self, name:str) -> None:\n",
    "        self.name : str = name\n",
    "        self.education : str  = \"\"\n",
    "        self.department : str = \"\"\n",
    "\n",
    "class Designer(Employee):\n",
    "    def __init__(self, title : str, name: str) -> None:\n",
    "        super().__init__(name)\n",
    "\n",
    "        self.title : str = title\n",
    "\n",
    "\n",
    "class Developer(Employee):\n",
    "    def __init__(self, title:str,name:str) -> None:\n",
    "        super().__init__(name)\n",
    "        self.title: str = title\n",
    "        self.programming_skills : list[str] = [\"python\"]\n",
    "\n",
    "\n",
    "\n",
    "designe1 : Designer = Designer(\"Animation Artist\",\"Manaan\")\n",
    "\n",
    "dev1 : Developer = Developer(\"GenAI Engineer\",\"Shawaal\")\n",
    "\n",
    "print(designe1.title)\n",
    "\n",
    "print(dev1.programming_skills)\n"
   ]
  }
 ],
 "metadata": {
  "kernelspec": {
   "display_name": "python12",
   "language": "python",
   "name": "python3"
  },
  "language_info": {
   "codemirror_mode": {
    "name": "ipython",
    "version": 3
   },
   "file_extension": ".py",
   "mimetype": "text/x-python",
   "name": "python",
   "nbconvert_exporter": "python",
   "pygments_lexer": "ipython3",
   "version": "3.12.0"
  }
 },
 "nbformat": 4,
 "nbformat_minor": 2
}
