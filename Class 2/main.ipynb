{
 "cells": [
  {
   "cell_type": "code",
   "execution_count": 1,
   "metadata": {},
   "outputs": [
    {
     "name": "stdout",
     "output_type": "stream",
     "text": [
      "Shawaal\n"
     ]
    }
   ],
   "source": [
    "name: str = \"Shawaal\"\n",
    "print(name)\n"
   ]
  },
  {
   "cell_type": "markdown",
   "metadata": {},
   "source": [
    "# String Data types in Python"
   ]
  },
  {
   "cell_type": "code",
   "execution_count": 2,
   "metadata": {},
   "outputs": [
    {
     "name": "stdout",
     "output_type": "stream",
     "text": [
      "PIAIC Student Card \n",
      " Father's Name\n"
     ]
    }
   ],
   "source": [
    "message:str=\"PIAIC Student Card \\n Father's Name\"\n",
    "print(message)"
   ]
  },
  {
   "cell_type": "code",
   "execution_count": 3,
   "metadata": {},
   "outputs": [
    {
     "name": "stdout",
     "output_type": "stream",
     "text": [
      "PIAIC Student Card \n",
      "Student Name: Shawaal Nadeem\n"
     ]
    }
   ],
   "source": [
    "name: str = \"Shawaal Nadeem\"\n",
    "fName: str = \"Nadeem\"\n",
    "education: str = \"Bachlero's in Computer Sciences\"\n",
    "age: int = 22\n",
    "card: str = \"PIAIC Student Card \\nStudent Name: \" + name\n",
    "print(card)\n"
   ]
  },
  {
   "cell_type": "code",
   "execution_count": 5,
   "metadata": {},
   "outputs": [
    {
     "ename": "TypeError",
     "evalue": "can only concatenate str (not \"int\") to str",
     "output_type": "error",
     "traceback": [
      "\u001b[1;31m---------------------------------------------------------------------------\u001b[0m",
      "\u001b[1;31mTypeError\u001b[0m                                 Traceback (most recent call last)",
      "\u001b[1;32md:\\Modern-Python\\Class 2\\main.ipynb Cell 5\u001b[0m line \u001b[0;36m5\n\u001b[0;32m      <a href='vscode-notebook-cell:/d%3A/Modern-Python/Class%202/main.ipynb#W4sZmlsZQ%3D%3D?line=2'>3</a>\u001b[0m education: \u001b[39mstr\u001b[39m \u001b[39m=\u001b[39m \u001b[39m\"\u001b[39m\u001b[39mBachlero\u001b[39m\u001b[39m'\u001b[39m\u001b[39ms in Computer Sciences\u001b[39m\u001b[39m\"\u001b[39m\n\u001b[0;32m      <a href='vscode-notebook-cell:/d%3A/Modern-Python/Class%202/main.ipynb#W4sZmlsZQ%3D%3D?line=3'>4</a>\u001b[0m age: \u001b[39mint\u001b[39m \u001b[39m=\u001b[39m \u001b[39m22\u001b[39m\n\u001b[1;32m----> <a href='vscode-notebook-cell:/d%3A/Modern-Python/Class%202/main.ipynb#W4sZmlsZQ%3D%3D?line=4'>5</a>\u001b[0m card: \u001b[39mstr\u001b[39m \u001b[39m=\u001b[39m \u001b[39m\"\u001b[39;49m\u001b[39mPIAIC Student Card \u001b[39;49m\u001b[39m\\n\u001b[39;49;00m\u001b[39mStudent Name: \u001b[39;49m\u001b[39m\"\u001b[39;49m \u001b[39m+\u001b[39;49m name \u001b[39m+\u001b[39;49m \u001b[39m\"\u001b[39;49m\u001b[39m\\n\u001b[39;49;00m\u001b[39mAge: \u001b[39;49m\u001b[39m\"\u001b[39;49m\u001b[39m+\u001b[39;49mage \n\u001b[0;32m      <a href='vscode-notebook-cell:/d%3A/Modern-Python/Class%202/main.ipynb#W4sZmlsZQ%3D%3D?line=5'>6</a>\u001b[0m \u001b[39m# Both types must be in string or int during concat\u001b[39;00m\n\u001b[0;32m      <a href='vscode-notebook-cell:/d%3A/Modern-Python/Class%202/main.ipynb#W4sZmlsZQ%3D%3D?line=6'>7</a>\u001b[0m \u001b[39mprint\u001b[39m(card)\n",
      "\u001b[1;31mTypeError\u001b[0m: can only concatenate str (not \"int\") to str"
     ]
    }
   ],
   "source": [
    "name: str = \"Shawaal Nadeem\"\n",
    "fName: str = \"Nadeem\"\n",
    "education: str = \"Bachlero's in Computer Sciences\"\n",
    "age: int = 22\n",
    "card: str = \"PIAIC Student Card \\nStudent Name: \" + name + \"\\nAge: \"+age \n",
    "# Both types must be in string or int during concat\n",
    "print(card)\n"
   ]
  },
  {
   "cell_type": "code",
   "execution_count": 6,
   "metadata": {},
   "outputs": [
    {
     "name": "stdout",
     "output_type": "stream",
     "text": [
      "PIAIC Student Card \n",
      "Student Name: Shawaal Nadeem\n",
      "Age:22\n"
     ]
    }
   ],
   "source": [
    "name: str = \"Shawaal Nadeem\"\n",
    "fName: str = \"Nadeem\"\n",
    "education: str = \"Bachlero's in Computer Sciences\"\n",
    "age: int = 22\n",
    "card: str = \"PIAIC Student Card \\nStudent Name: \" + name + \"\\nAge:\" + str(age)\n",
    "print(card)\n"
   ]
  },
  {
   "cell_type": "code",
   "execution_count": 7,
   "metadata": {},
   "outputs": [
    {
     "name": "stdout",
     "output_type": "stream",
     "text": [
      "17\n",
      "17\n"
     ]
    }
   ],
   "source": [
    "print(7+8+2)\n",
    "\n",
    "print (7+\\\n",
    "       8+\\\n",
    "       2)\n",
    "# \\ means logics continues"
   ]
  },
  {
   "cell_type": "markdown",
   "metadata": {},
   "source": [
    "## Define multiline string \"\"\" \"\"\", ''' '''"
   ]
  },
  {
   "cell_type": "code",
   "execution_count": 8,
   "metadata": {},
   "outputs": [
    {
     "name": "stdout",
     "output_type": "stream",
     "text": [
      "\n",
      "PIAIC Student Card\n",
      "Student Name: ...\n",
      "Father's Name: ...\n",
      "Age: ..\n",
      "Education: ...\n",
      "\n"
     ]
    }
   ],
   "source": [
    "name: str = \"Shawaal Nadeem\"\n",
    "fName: str = \"Nadeem\"\n",
    "education: str = \"Bachlero's in Computer Sciences\"\n",
    "age: int = 22\n",
    "card: str = \"\"\"\n",
    "PIAIC Student Card\n",
    "Student Name: ...\n",
    "Father's Name: ...\n",
    "Age: ..\n",
    "Education: ...\n",
    "\"\"\"\n",
    "print(card)\n"
   ]
  },
  {
   "cell_type": "markdown",
   "metadata": {},
   "source": [
    "# F-String"
   ]
  },
  {
   "cell_type": "code",
   "execution_count": 10,
   "metadata": {},
   "outputs": [
    {
     "name": "stdout",
     "output_type": "stream",
     "text": [
      "\n",
      "PIAIC Student Card\n",
      "Student Name: Shawaal Nadeem\n",
      "Father's Name: Nadeem\n",
      "Age: 22\n",
      "Education: Bachlero's in Computer Sciences\n",
      "\n"
     ]
    }
   ],
   "source": [
    "name: str = \"Shawaal Nadeem\"\n",
    "fName: str = \"Nadeem\"\n",
    "education: str = \"Bachlero's in Computer Sciences\"\n",
    "age: int = 22\n",
    "card: str = f\"\"\"\n",
    "PIAIC Student Card\n",
    "Student Name: {name}\n",
    "Father's Name: {fName}\n",
    "Age: {age}\n",
    "Education: {education}\n",
    "\"\"\"\n",
    "# After = we place f and we don't type cast age varibale which is the power of f string \n",
    "print(card)\n"
   ]
  },
  {
   "cell_type": "markdown",
   "metadata": {},
   "source": [
    "# F-string and Jinja style"
   ]
  },
  {
   "cell_type": "code",
   "execution_count": 13,
   "metadata": {},
   "outputs": [
    {
     "data": {
      "text/plain": [
       "'\\nStudent Name: {{name}}\\n'"
      ]
     },
     "execution_count": 13,
     "metadata": {},
     "output_type": "execute_result"
    }
   ],
   "source": [
    "# F-string\n",
    "f\"\"\"\n",
    "Student Name: {name}\n",
    "\"\"\"\n",
    "\n",
    "# Jinja style   (Support in Html)\n",
    "\"\"\"\n",
    "Student Name: {{name}}\n",
    "\"\"\""
   ]
  },
  {
   "cell_type": "code",
   "execution_count": 15,
   "metadata": {},
   "outputs": [
    {
     "name": "stdout",
     "output_type": "stream",
     "text": [
      "\n",
      "PIAIC Student Card\n",
      "Student Name: Shawaal Nadeem\n",
      "Father's Name: Nadeem\n",
      "Age: 22\n",
      "Education: Bachlero's in Computer Sciences\n",
      "\n"
     ]
    }
   ],
   "source": [
    "name: str = \"Shawaal Nadeem\"\n",
    "fName: str = \"Nadeem\"\n",
    "education: str = \"Bachlero's in Computer Sciences\"\n",
    "age: int = 22\n",
    "\n",
    "card: str = f\"\"\"\n",
    "PIAIC Student Card\n",
    "Student Name: %s\n",
    "Father's Name: %s\n",
    "Age: %d\n",
    "Education: %s\n",
    "\"\"\" %(name,fName,age,education)\n",
    "# %s means string type and %d means number dataType\n",
    "\n",
    "print(card)"
   ]
  },
  {
   "cell_type": "code",
   "execution_count": null,
   "metadata": {},
   "outputs": [],
   "source": [
    "name: str = \"Shawaal Nadeem\"\n",
    "fName: str = \"Nadeem\"\n",
    "education: str = \"Bachlero's in Computer Sciences\"\n",
    "age: int = 22\n",
    "\n",
    "card: str = f\"\"\"\n",
    "PIAIC Student Card\n",
    "Student Name: %s\n",
    "Father's Name: %s\n",
    "Age: %d\n",
    "Education: %s\n",
    "\"\"\" %(name,fName,age,education)\n",
    "\n",
    "print(card)"
   ]
  },
  {
   "cell_type": "markdown",
   "metadata": {},
   "source": [
    "# String Methods"
   ]
  },
  {
   "cell_type": "code",
   "execution_count": 16,
   "metadata": {},
   "outputs": [
    {
     "data": {
      "text/plain": [
       "'Pakistan value a=7 and value b=8'"
      ]
     },
     "execution_count": 16,
     "metadata": {},
     "output_type": "execute_result"
    }
   ],
   "source": [
    "a = 7\n",
    "b = 8\n",
    "\"Pakistan value a={} and value b={}\".format(a, b)"
   ]
  },
  {
   "cell_type": "code",
   "execution_count": 18,
   "metadata": {},
   "outputs": [
    {
     "name": "stdout",
     "output_type": "stream",
     "text": [
      "\n",
      "PIAIC Student Card\n",
      "Student Name: Shawaal Nadeem\n",
      "Father's Name: Nadeem\n",
      "Age: 22\n",
      "Education: Bachlero's in Computer Sciences\n",
      "\n"
     ]
    }
   ],
   "source": [
    "name: str = \"Shawaal Nadeem\"\n",
    "fName: str = \"Nadeem\"\n",
    "education: str = \"Bachlero's in Computer Sciences\"\n",
    "age: int = 22\n",
    "\n",
    "card: str = \"\"\"\n",
    "PIAIC Student Card\n",
    "Student Name: {}\n",
    "Father's Name: {}\n",
    "Age: {}\n",
    "Education: {}\n",
    "\"\"\".format(name,fName,age,education)\n",
    "\n",
    "print(card)"
   ]
  },
  {
   "cell_type": "code",
   "execution_count": 19,
   "metadata": {},
   "outputs": [
    {
     "data": {
      "text/plain": [
       "'nostarch.com'"
      ]
     },
     "execution_count": 19,
     "metadata": {},
     "output_type": "execute_result"
    }
   ],
   "source": [
    "nostarch_url:str='https://nostarch.com'\n",
    "nostarch_url.removeprefix('https://')"
   ]
  }
 ],
 "metadata": {
  "kernelspec": {
   "display_name": "python12",
   "language": "python",
   "name": "python3"
  },
  "language_info": {
   "codemirror_mode": {
    "name": "ipython",
    "version": 3
   },
   "file_extension": ".py",
   "mimetype": "text/x-python",
   "name": "python",
   "nbconvert_exporter": "python",
   "pygments_lexer": "ipython3",
   "version": "3.12.0"
  }
 },
 "nbformat": 4,
 "nbformat_minor": 2
}
