{
 "cells": [
  {
   "cell_type": "code",
   "execution_count": 5,
   "metadata": {},
   "outputs": [
    {
     "name": "stdout",
     "output_type": "stream",
     "text": [
      "{'Roll No': [1, 2, 3], 'Name': ['Shawaal', 'Nancy', 'Kill Joy'], 'Education': ['BSCS', 'BSMS', 'BSVS']}\n",
      "   Roll No      Name Education\n",
      "0        1   Shawaal      BSCS\n",
      "1        2     Nancy      BSMS\n",
      "2        3  Kill Joy      BSVS\n"
     ]
    }
   ],
   "source": [
    "import pandas as pd\n",
    "from typing import Any,Dict\n",
    "studentsData:Dict[str,Any]={\n",
    "    'Roll No':[1,2,3],\n",
    "    'Name':['Shawaal','Nancy','Kill Joy'],\n",
    "    'Education':['BSCS','BSMS','BSVS']\n",
    "}\n",
    "print(studentsData)\n",
    "tableForm:pd.DataFrame=pd.DataFrame(studentsData)\n",
    "print(tableForm)"
   ]
  },
  {
   "cell_type": "code",
   "execution_count": 7,
   "metadata": {},
   "outputs": [
    {
     "data": {
      "text/plain": [
       "True"
      ]
     },
     "execution_count": 7,
     "metadata": {},
     "output_type": "execute_result"
    }
   ],
   "source": [
    "'Shawaal' in 'Hi my name is Shawaal. I am 22 years old.'   # in check Shawaal is present or not in whole string or sentence"
   ]
  }
 ],
 "metadata": {
  "kernelspec": {
   "display_name": "Python 3",
   "language": "python",
   "name": "python3"
  },
  "language_info": {
   "codemirror_mode": {
    "name": "ipython",
    "version": 3
   },
   "file_extension": ".py",
   "mimetype": "text/x-python",
   "name": "python",
   "nbconvert_exporter": "python",
   "pygments_lexer": "ipython3",
   "version": "3.10.8"
  }
 },
 "nbformat": 4,
 "nbformat_minor": 2
}
