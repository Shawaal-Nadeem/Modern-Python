{
 "cells": [
  {
   "cell_type": "markdown",
   "metadata": {},
   "source": [
    "# Multiple Inheritance\n"
   ]
  },
  {
   "cell_type": "code",
   "execution_count": 3,
   "metadata": {},
   "outputs": [
    {
     "name": "stdout",
     "output_type": "stream",
     "text": [
      "Manaan\n",
      "Brown\n",
      "7.0\n"
     ]
    }
   ],
   "source": [
    "class Mother:\n",
    "    def __init__(self, name: str) -> None:\n",
    "        self.name: str = name\n",
    "        self.eye_color: str = \"Brown\"\n",
    "\n",
    "\n",
    "class Father:\n",
    "    def __init__(self, name: str) -> None:\n",
    "        self.name: str = name\n",
    "        self.height: float = 7.0\n",
    "\n",
    "\n",
    "class Child(Mother, Father):\n",
    "    def __init__(self, name: str, mother_name: str, father_name: str) -> None:\n",
    "        Mother.__init__(self, mother_name)\n",
    "        Father.__init__(self, father_name)\n",
    "        self.name = name\n",
    "\n",
    "\n",
    "objChild: Child = Child(\"Manaan\", \"Nancy\", \"Shawaal\")\n",
    "print(objChild.name)\n",
    "print(objChild.eye_color)\n",
    "print(objChild.height)"
   ]
  },
  {
   "cell_type": "markdown",
   "metadata": {},
   "source": [
    "# Overriding\n"
   ]
  },
  {
   "cell_type": "code",
   "execution_count": 4,
   "metadata": {},
   "outputs": [
    {
     "name": "stdout",
     "output_type": "stream",
     "text": [
      "Lion is eating Meat\n"
     ]
    }
   ],
   "source": [
    "class Animal:\n",
    "    def eating(self, food: str):\n",
    "        print(f\"Animal is eating {food}\")\n",
    "\n",
    "\n",
    "class Lion(Animal):\n",
    "    def eating(self, food: str):\n",
    "        print(f\"Lion is eating {food}\")\n",
    "\n",
    "\n",
    "objLion: Lion = Lion()\n",
    "objLion.eating(\"Meat\")"
   ]
  },
  {
   "cell_type": "markdown",
   "metadata": {},
   "source": [
    "# Polymorphism\n"
   ]
  },
  {
   "cell_type": "code",
   "execution_count": 5,
   "metadata": {},
   "outputs": [
    {
     "name": "stdout",
     "output_type": "stream",
     "text": [
      "Lion is eating Meat\n"
     ]
    }
   ],
   "source": [
    "obj: Animal = Lion()\n",
    "obj.eating(\"Meat\")"
   ]
  },
  {
   "cell_type": "markdown",
   "metadata": {},
   "source": [
    "# Static Method\n"
   ]
  },
  {
   "cell_type": "code",
   "execution_count": 6,
   "metadata": {},
   "outputs": [
    {
     "name": "stdout",
     "output_type": "stream",
     "text": [
      "8\n"
     ]
    }
   ],
   "source": [
    "class Human:\n",
    "    @staticmethod\n",
    "    def add(n1: int, n2: int) -> int:\n",
    "        return n1 + n2\n",
    "\n",
    "\n",
    "print(\n",
    "    Human.add(5, 3)\n",
    ")  # No need to creae any object bcz it is static method which is similar to class variable."
   ]
  }
 ],
 "metadata": {
  "kernelspec": {
   "display_name": "python12",
   "language": "python",
   "name": "python3"
  },
  "language_info": {
   "codemirror_mode": {
    "name": "ipython",
    "version": 3
   },
   "file_extension": ".py",
   "mimetype": "text/x-python",
   "name": "python",
   "nbconvert_exporter": "python",
   "pygments_lexer": "ipython3",
   "version": "3.12.0"
  }
 },
 "nbformat": 4,
 "nbformat_minor": 2
}
