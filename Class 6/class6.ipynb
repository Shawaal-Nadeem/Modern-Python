{
 "cells": [
  {
   "cell_type": "markdown",
   "metadata": {},
   "source": [
    "# if-else-elif\n",
    "```\n",
    "if logic:\n",
    "    True Block\n",
    "else:\n",
    "    False Block\n",
    "```\n",
    "### Comprehensive Style\n",
    "```\n",
    "True Block if logic else False Block\n",
    "```"
   ]
  },
  {
   "cell_type": "code",
   "execution_count": 1,
   "metadata": {},
   "outputs": [
    {
     "name": "stdout",
     "output_type": "stream",
     "text": [
      "Pakistan Zindabad\n"
     ]
    }
   ],
   "source": [
    "if True:\n",
    "    print('Pakistan Zindabad')\n",
    "else:\n",
    "    print('Hello World')"
   ]
  },
  {
   "cell_type": "code",
   "execution_count": 2,
   "metadata": {},
   "outputs": [
    {
     "name": "stdout",
     "output_type": "stream",
     "text": [
      "Hello World\n"
     ]
    }
   ],
   "source": [
    "if False:\n",
    "    print('Pakistan Zindabad')\n",
    "else:\n",
    "    print('Hello World')"
   ]
  },
  {
   "cell_type": "code",
   "execution_count": 3,
   "metadata": {},
   "outputs": [
    {
     "name": "stdout",
     "output_type": "stream",
     "text": [
      "Pakistan Zindabad\n"
     ]
    }
   ],
   "source": [
    "print('Pakistan Zindabad') if True else print('Hello World')  # Comprehensive Style"
   ]
  },
  {
   "cell_type": "code",
   "execution_count": 8,
   "metadata": {},
   "outputs": [
    {
     "name": "stdout",
     "output_type": "stream",
     "text": [
      "Not 7%\n"
     ]
    }
   ],
   "source": [
    "percentage: int | float = 7.01\n",
    "if(percentage==7):\n",
    "    print('7%')\n",
    "else:\n",
    "    print('Not 7%')"
   ]
  },
  {
   "cell_type": "markdown",
   "metadata": {},
   "source": [
    "# Grading System"
   ]
  },
  {
   "cell_type": "code",
   "execution_count": 30,
   "metadata": {},
   "outputs": [
    {
     "name": "stdout",
     "output_type": "stream",
     "text": [
      "Shawaal got B+\n",
      "Nancy got A+\n",
      "Kill Joy got C+\n",
      "Raze Fail\n",
      "Program End\n"
     ]
    }
   ],
   "source": [
    "percentageList:list[tuple[str,int]]=[('Shawaal',70),('Nancy',90),('Kill Joy',50),('Raze',30)]\n",
    "for x in percentageList:\n",
    "    name,per=x\n",
    "    if per>=90 and per <=100:\n",
    "        print(f'{name} got A+')\n",
    "    elif per>=70 and per <=80:\n",
    "        print(f'{name} got B+')\n",
    "    elif per>=50 and per<=60:\n",
    "        print(f'{name} got C+')\n",
    "    else:\n",
    "        print(f'{name} Fail')\n",
    "print('Program End')"
   ]
  }
 ],
 "metadata": {
  "kernelspec": {
   "display_name": "python12",
   "language": "python",
   "name": "python3"
  },
  "language_info": {
   "codemirror_mode": {
    "name": "ipython",
    "version": 3
   },
   "file_extension": ".py",
   "mimetype": "text/x-python",
   "name": "python",
   "nbconvert_exporter": "python",
   "pygments_lexer": "ipython3",
   "version": "3.12.0"
  }
 },
 "nbformat": 4,
 "nbformat_minor": 2
}
