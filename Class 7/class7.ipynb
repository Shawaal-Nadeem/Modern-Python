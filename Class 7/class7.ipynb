{
 "cells": [
  {
   "cell_type": "markdown",
   "metadata": {},
   "source": [
    "# Dictionary\n",
    "* key:value (items)\n",
    "    * key replacement of indexes\n",
    "    * value item"
   ]
  },
  {
   "cell_type": "code",
   "execution_count": 15,
   "metadata": {},
   "outputs": [
    {
     "name": "stdout",
     "output_type": "stream",
     "text": [
      "{'Name': 'Shawaal', 'Father Name': 'Nadeem', 'Education': 'BSCS'}\n",
      "Nadeem\n",
      "{'Name': 'Shawaal', 'Father Name': 'Nadeem', 'Education': 'BSCS', 'Crush': 'Nancy'}\n",
      "{'Name': 'Shawaal', 'Father Name': 'Nadeem', 'Education': 'BSCS', 'Crush': 'Nancy Jewel'}\n"
     ]
    }
   ],
   "source": [
    "from typing import Dict\n",
    "#         key value\n",
    "data:Dict[str,str]={'Name':'Shawaal','Father Name':'Nadeem','Education':'BSCS'}\n",
    "print(data)\n",
    "print(data['Father Name'])\n",
    "# Insert value on Dictionary\n",
    "data['Crush']='Nancy'\n",
    "print(data)\n",
    "# Update value \n",
    "data['Crush']='Nancy Jewel'\n",
    "print(data)"
   ]
  },
  {
   "cell_type": "code",
   "execution_count": 23,
   "metadata": {},
   "outputs": [
    {
     "data": {
      "text/plain": [
       "['clear',\n",
       " 'copy',\n",
       " 'fromkeys',\n",
       " 'get',\n",
       " 'items',\n",
       " 'keys',\n",
       " 'pop',\n",
       " 'popitem',\n",
       " 'setdefault',\n",
       " 'update',\n",
       " 'values']"
      ]
     },
     "execution_count": 23,
     "metadata": {},
     "output_type": "execute_result"
    }
   ],
   "source": [
    "[item for item in dir(data) if \"__\" not in item]"
   ]
  },
  {
   "cell_type": "markdown",
   "metadata": {},
   "source": [
    "### Get method\n",
    "* To prevent from program crash if key is not present in dictionary"
   ]
  },
  {
   "cell_type": "code",
   "execution_count": 24,
   "metadata": {},
   "outputs": [
    {
     "data": {
      "text/plain": [
       "'Not Present'"
      ]
     },
     "execution_count": 24,
     "metadata": {},
     "output_type": "execute_result"
    }
   ],
   "source": [
    "data.get('Age','Not Present')"
   ]
  },
  {
   "cell_type": "markdown",
   "metadata": {},
   "source": [
    "# Keys , Values , Items method"
   ]
  },
  {
   "cell_type": "code",
   "execution_count": 27,
   "metadata": {},
   "outputs": [
    {
     "name": "stdout",
     "output_type": "stream",
     "text": [
      "dict_keys(['Name', 'Father Name', 'Education', 'Crush'])\n",
      "dict_values(['Shawaal', 'Nadeem', 'BSCS', 'Nancy Jewel'])\n",
      "dict_items([('Name', 'Shawaal'), ('Father Name', 'Nadeem'), ('Education', 'BSCS'), ('Crush', 'Nancy Jewel')])\n"
     ]
    }
   ],
   "source": [
    "print(data.keys()) # keys\n",
    "print(data.values()) # values\n",
    "print(data.items()) # items"
   ]
  },
  {
   "cell_type": "code",
   "execution_count": 6,
   "metadata": {},
   "outputs": [
    {
     "name": "stdout",
     "output_type": "stream",
     "text": [
      "{1, 2, 3, 4, 5}\n"
     ]
    }
   ],
   "source": [
    "numbersSet:set={2,2,3,4,5,3,2,3,3,1,5}   # set data type returns unique and sorted data\n",
    "print(numbersSet)                        # we can't access by index value"
   ]
  },
  {
   "cell_type": "markdown",
   "metadata": {},
   "source": [
    "### If u want perform iteration on set then set store on list"
   ]
  },
  {
   "cell_type": "code",
   "execution_count": 7,
   "metadata": {},
   "outputs": [
    {
     "name": "stdout",
     "output_type": "stream",
     "text": [
      "[1, 2, 3, 4, 5]\n"
     ]
    }
   ],
   "source": [
    "numbersList:list[int]=list(numbersSet)\n",
    "print(numbersList)"
   ]
  },
  {
   "cell_type": "markdown",
   "metadata": {},
   "source": [
    "# Shuffle \n",
    "* Without using 3rd or temp variable"
   ]
  },
  {
   "cell_type": "code",
   "execution_count": 28,
   "metadata": {},
   "outputs": [
    {
     "name": "stdout",
     "output_type": "stream",
     "text": [
      "20\n",
      "10\n"
     ]
    }
   ],
   "source": [
    "a:int=10\n",
    "b:int=20\n",
    "a,b=b,a\n",
    "print(a)\n",
    "print(b)"
   ]
  }
 ],
 "metadata": {
  "kernelspec": {
   "display_name": "python12",
   "language": "python",
   "name": "python3"
  },
  "language_info": {
   "codemirror_mode": {
    "name": "ipython",
    "version": 3
   },
   "file_extension": ".py",
   "mimetype": "text/x-python",
   "name": "python",
   "nbconvert_exporter": "python",
   "pygments_lexer": "ipython3",
   "version": "3.12.0"
  }
 },
 "nbformat": 4,
 "nbformat_minor": 2
}
