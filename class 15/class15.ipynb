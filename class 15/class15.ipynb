{
 "cells": [
  {
   "cell_type": "markdown",
   "metadata": {},
   "source": [
    "# Callable"
   ]
  },
  {
   "cell_type": "code",
   "execution_count": 2,
   "metadata": {},
   "outputs": [
    {
     "name": "stdout",
     "output_type": "stream",
     "text": [
      "12\n",
      "10\n",
      "20\n"
     ]
    }
   ],
   "source": [
    "\n",
    "class CumulativeAvrager():\n",
    "    def __init__(self) -> None:\n",
    "        self.data:list=[]\n",
    "\n",
    "    def __call__(self,num:int ) -> None:\n",
    "        self.data.append(num)\n",
    "\n",
    "    def display(self)->None:\n",
    "        for i in self.data:\n",
    "            print(i)\n",
    "\n",
    "obj:CumulativeAvrager=CumulativeAvrager()\n",
    "obj(12) # When we use just round bracket then callable function __call__ will be call\n",
    "obj(10)\n",
    "obj(20)\n",
    "obj.display()"
   ]
  },
  {
   "cell_type": "markdown",
   "metadata": {},
   "source": [
    "# Public, Protected, Private "
   ]
  },
  {
   "cell_type": "code",
   "execution_count": 4,
   "metadata": {},
   "outputs": [
    {
     "name": "stdout",
     "output_type": "stream",
     "text": [
      "Before : 090078601\n",
      "After : 03096946556\n",
      "20 Dec 2023\n"
     ]
    }
   ],
   "source": [
    "class Piaic():\n",
    "    def __init__(self) -> None:\n",
    "        # Publicaly access\n",
    "        self.piaic_helpLine:str='090078601'\n",
    "        # protectedly access [before name we use _ ]\n",
    "        self._piaicExpense:int=50000\n",
    "        # privately access [before name we use __ ]\n",
    "        self.__testAnnouncemnt:str='20 Dec 2023'\n",
    "\n",
    "objPiaic:Piaic=Piaic()\n",
    "# See i can change public data outside the class\n",
    "print(f'Before : {objPiaic.piaic_helpLine}')\n",
    "objPiaic.piaic_helpLine='03096946556'\n",
    "print(f'After : {objPiaic.piaic_helpLine}')\n",
    "\n",
    "# How to access private data so :\n",
    "print(objPiaic._Piaic__testAnnouncemnt)\n"
   ]
  },
  {
   "cell_type": "markdown",
   "metadata": {},
   "source": [
    "# Encapsulation"
   ]
  },
  {
   "cell_type": "code",
   "execution_count": 8,
   "metadata": {},
   "outputs": [
    {
     "name": "stdout",
     "output_type": "stream",
     "text": [
      "Successfully Connected\n",
      "Valid User\n"
     ]
    }
   ],
   "source": [
    "class StudentLogin():\n",
    "    def __init__(self) -> None:\n",
    "        self.__username='Admin'\n",
    "        self.__password='Admin123'\n",
    "\n",
    "    def __dbConnectivity(self,n:str,p:str):\n",
    "        print('Successfully Connected')\n",
    "        if self.__username==n and self.__password==p:\n",
    "            print('Valid User')\n",
    "        else:\n",
    "            print('Invalid User')\n",
    "\n",
    "    def login(self,name:str,pswd:str):\n",
    "        self.__dbConnectivity(name,pswd)\n",
    "\n",
    "# objStudent:StudentLogin=StudentLogin()\n",
    "# objStudent.__dbConnectivity('Admin','Admin123')  # dbConnectivity is private so we can't access outside \n",
    "\n",
    "objStudent:StudentLogin=StudentLogin()\n",
    "objStudent.login('Admin','Admin123')  \n"
   ]
  },
  {
   "cell_type": "markdown",
   "metadata": {},
   "source": [
    "# Abstraction"
   ]
  },
  {
   "cell_type": "code",
   "execution_count": 9,
   "metadata": {},
   "outputs": [
    {
     "name": "stdout",
     "output_type": "stream",
     "text": [
      "Cat is eating Chick\n"
     ]
    }
   ],
   "source": [
    "from abc import ABC,abstractmethod    # ABC means abstract base class we need this import when we want to abstract class\n",
    "\n",
    "class Animal(ABC):    # it means this class is Abstract so it cannot make object of Animal class\n",
    "\n",
    "    @abstractmethod\n",
    "    def eat(self,food:str):\n",
    "        ...\n",
    "        \n",
    "\n",
    "class Cat(Animal):\n",
    "    def __init__(self) -> None:\n",
    "        super().__init__()# parent\n",
    "\n",
    "    def eat(self, food: str):\n",
    "        return f\"Cat is eating {food}\"\n",
    "\n",
    "    \n",
    "\n",
    "    \n",
    "\n",
    "isfahan : Cat = Cat()\n",
    "\n",
    "\n",
    "print(isfahan.eat('Chick'))"
   ]
  }
 ],
 "metadata": {
  "kernelspec": {
   "display_name": "python12",
   "language": "python",
   "name": "python3"
  },
  "language_info": {
   "codemirror_mode": {
    "name": "ipython",
    "version": 3
   },
   "file_extension": ".py",
   "mimetype": "text/x-python",
   "name": "python",
   "nbconvert_exporter": "python",
   "pygments_lexer": "ipython3",
   "version": "3.12.0"
  }
 },
 "nbformat": 4,
 "nbformat_minor": 2
}
